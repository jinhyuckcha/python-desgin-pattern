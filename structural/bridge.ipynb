{
    "cells": [
        {
            "cell_type": "code",
            "execution_count": null,
            "source": [
                "class DrawAPI1:\r\n",
                "    def draw(self, x, y):\r\n",
                "        print(f\"DrawAPI1 at ({X}, {y})\")\r\n",
                "\r\n",
                "\r\n",
                "class DrawAPI2:\r\n",
                "    def draw(self, x, y):\r\n",
                "        print(f\"DrawAPI2 at ({x*2}, {y*2})\")\r\n",
                "    \r\n",
                "\r\n",
                "class Draw:\r\n",
                "    def __init__(self, x, y, draw_api) -> None:\r\n",
                "        self.x = x\r\n",
                "        self.y = y\r\n",
                "        self.draw_api = draw_api\r\n",
                "    \r\n",
                "    def draw(self):\r\n",
                "        self.draw_api.draw(self.x, self.y)"
            ],
            "outputs": [],
            "metadata": {}
        },
        {
            "cell_type": "code",
            "execution_count": null,
            "source": [],
            "outputs": [],
            "metadata": {}
        }
    ],
    "metadata": {
        "orig_nbformat": 4,
        "language_info": {
            "name": "python",
            "version": "3.9.6"
        },
        "kernelspec": {
            "name": "python3",
            "display_name": "Python 3.9.6 64-bit"
        },
        "interpreter": {
            "hash": "2259d5726e9a06fda29233f4d970cc16b01a0d6e68c90a4189f0793c40fa4cd4"
        }
    },
    "nbformat": 4,
    "nbformat_minor": 2
}