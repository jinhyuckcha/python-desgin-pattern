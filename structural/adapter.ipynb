{
    "cells": [
        {
            "cell_type": "code",
            "execution_count": 1,
            "metadata": {},
            "outputs": [],
            "source": [
                "class MotorCycle:\n",
                "    def __init__(self):\n",
                "        self.name = \"MotorCycle\"\n",
                "    \n",
                "    def TwoWheeler(self):\n",
                "        return \"TwoWheeler\"\n",
                "\n",
                "\n",
                "class Truck:\n",
                "    def __init__(self):\n",
                "        self.name = \"Truck\"\n",
                "    \n",
                "    def EightWheeler(self):\n",
                "        return \"EightWheeler\"\n",
                "\n",
                "\n",
                "class Car:\n",
                "    def __init__(self):\n",
                "        self.name = \"Car\"\n",
                "    \n",
                "    def FourWheeler(self):\n",
                "        return \"FourWheeler\"\n",
                "\n",
                "\n",
                "class Adapter:\n",
                "    def __init__(self, obj, **adapted_methods):\n",
                "        self.obj = obj\n",
                "        self.__dict__.update(adapted_methods)\n",
                "    \n",
                "    def __getattr__(self, attr):\n",
                "        return getattr(self.obj, attr)"
            ]
        },
        {
            "cell_type": "code",
            "execution_count": 2,
            "metadata": {},
            "outputs": [
                {
                    "name": "stdout",
                    "output_type": "stream",
                    "text": [
                        "A MotorCycle is a TwoWheeler\n",
                        "A Truck is a EightWheeler\n",
                        "A Car is a FourWheeler\n"
                    ]
                }
            ],
            "source": [
                "objects = []\n",
                "\n",
                "motor_cycle = MotorCycle()\n",
                "objects.append(Adapter(motor_cycle, wheel=motor_cycle.TwoWheeler))\n",
                "\n",
                "truck = Truck()\n",
                "objects.append(Adapter(truck, wheel=truck.EightWheeler))\n",
                "\n",
                "car = Car()\n",
                "objects.append(Adapter(car, wheel=car.FourWheeler))\n",
                "\n",
                "for obj in objects:\n",
                "    print(f'A {obj.name} is a {obj.wheel()}')"
            ]
        }
    ],
    "metadata": {
        "interpreter": {
            "hash": "d47cfcc5a771e7e845f873ca969e8ab807b8c46df0a7c1cbd080bb9aab781489"
        },
        "kernelspec": {
            "display_name": "Python 3.10.4 64-bit ('3.10.4')",
            "language": "python",
            "name": "python3"
        },
        "language_info": {
            "codemirror_mode": {
                "name": "ipython",
                "version": 3
            },
            "file_extension": ".py",
            "mimetype": "text/x-python",
            "name": "python",
            "nbconvert_exporter": "python",
            "pygments_lexer": "ipython3",
            "version": "3.10.4"
        },
        "orig_nbformat": 4
    },
    "nbformat": 4,
    "nbformat_minor": 2
}
