{
    "cells": [
        {
            "cell_type": "code",
            "execution_count": 3,
            "metadata": {},
            "outputs": [],
            "source": [
                "class Washing:\n",
                "    def wash(self):\n",
                "        print('washing')\n",
                "\n",
                "class Rinsing:\n",
                "    def rinse(self):\n",
                "        print('Rinsing')\n",
                "\n",
                "class Spinnning:\n",
                "    def spin(self):\n",
                "        print('Spinning')\n",
                "\n",
                "# facade\n",
                "class WashingMachine:\n",
                "    def __init__(self) -> None:\n",
                "        self.washing = Washing()\n",
                "        self.rinsing = Rinsing()\n",
                "        self.Spinning = Spinnning()\n",
                "    \n",
                "    def start(self):\n",
                "        self.washing.wash()\n",
                "        self.rinsing.rinse()\n",
                "        self.Spinning.spin()"
            ]
        },
        {
            "cell_type": "code",
            "execution_count": 5,
            "metadata": {},
            "outputs": [
                {
                    "name": "stdout",
                    "output_type": "stream",
                    "text": [
                        "washing\n",
                        "Rinsing\n",
                        "Spinning\n"
                    ]
                }
            ],
            "source": [
                "wm = WashingMachine()\n",
                "wm.start()"
            ]
        }
    ],
    "metadata": {
        "interpreter": {
            "hash": "916dbcbb3f70747c44a77c7bcd40155683ae19c65e1c03b4aa3499c5328201f1"
        },
        "kernelspec": {
            "display_name": "Python 3.8.10 64-bit",
            "name": "python3"
        },
        "language_info": {
            "codemirror_mode": {
                "name": "ipython",
                "version": 3
            },
            "file_extension": ".py",
            "mimetype": "text/x-python",
            "name": "python",
            "nbconvert_exporter": "python",
            "pygments_lexer": "ipython3",
            "version": "3.8.10"
        },
        "orig_nbformat": 4
    },
    "nbformat": 4,
    "nbformat_minor": 2
}
