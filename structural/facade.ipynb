{
    "cells": [
        {
            "cell_type": "code",
            "execution_count": 3,
            "source": [
                "class Washing:\n",
                "    def wash(self):\n",
                "        print('washing')\n",
                "\n",
                "class Rinsing:\n",
                "    def rinse(self):\n",
                "        print('Rinsing')\n",
                "\n",
                "class Spinnning:\n",
                "    def spin(self):\n",
                "        print('Spinning')\n",
                "\n",
                "# facade\n",
                "class WashingMachine:\n",
                "    def __init__(self) -> None:\n",
                "        self.washing = Washing()\n",
                "        self.rinsing = Rinsing()\n",
                "        self.Spinning = Spinnning()\n",
                "    \n",
                "    def start(self):\n",
                "        self.washing.wash()\n",
                "        self.rinsing.rinse()\n",
                "        self.Spinning.spin()"
            ],
            "outputs": [],
            "metadata": {}
        },
        {
            "cell_type": "code",
            "execution_count": 5,
            "source": [
                "wm = WashingMachine()\n",
                "wm.start()"
            ],
            "outputs": [
                {
                    "output_type": "stream",
                    "name": "stdout",
                    "text": [
                        "washing\n",
                        "Rinsing\n",
                        "Spinning\n"
                    ]
                }
            ],
            "metadata": {}
        }
    ],
    "metadata": {
        "orig_nbformat": 4,
        "language_info": {
            "name": "python",
            "version": "3.8.10",
            "mimetype": "text/x-python",
            "codemirror_mode": {
                "name": "ipython",
                "version": 3
            },
            "pygments_lexer": "ipython3",
            "nbconvert_exporter": "python",
            "file_extension": ".py"
        },
        "kernelspec": {
            "name": "python3",
            "display_name": "Python 3.8.10 64-bit"
        },
        "interpreter": {
            "hash": "916dbcbb3f70747c44a77c7bcd40155683ae19c65e1c03b4aa3499c5328201f1"
        }
    },
    "nbformat": 4,
    "nbformat_minor": 2
}