{
    "cells": [
        {
            "cell_type": "code",
            "execution_count": 1,
            "source": [
                "from abc import ABC, abstractmethod\n",
                "\n",
                "class Subject(ABC):\n",
                "    @abstractmethod\n",
                "    def do(self):\n",
                "        pass\n",
                "\n",
                "\n",
                "class RealSubject:\n",
                "    def do(self, user: str) -> None:\n",
                "        print(f'do job for {user}')\n",
                "\n",
                "\n",
                "class Proxy(Subject):\n",
                "    def __init__(self) -> None:\n",
                "        self.subject = RealSubject()\n",
                "    \n",
                "    def do(self, user: str) -> None:\n",
                "        if user == 'admin':\n",
                "            self.subject.do(user)\n",
                "        else:\n",
                "            print(\"can't access to RealSubject\")    "
            ],
            "outputs": [],
            "metadata": {}
        },
        {
            "cell_type": "code",
            "execution_count": 2,
            "source": [
                "proxy = Proxy()\n",
                "\n",
                "proxy.do('admin')\n",
                "proxy.do('user1')"
            ],
            "outputs": [
                {
                    "output_type": "stream",
                    "name": "stdout",
                    "text": [
                        "do job for admin\n",
                        "can't access to RealSubject\n"
                    ]
                }
            ],
            "metadata": {}
        }
    ],
    "metadata": {
        "orig_nbformat": 4,
        "language_info": {
            "name": "python",
            "version": "3.8.10",
            "mimetype": "text/x-python",
            "codemirror_mode": {
                "name": "ipython",
                "version": 3
            },
            "pygments_lexer": "ipython3",
            "nbconvert_exporter": "python",
            "file_extension": ".py"
        },
        "kernelspec": {
            "name": "python3",
            "display_name": "Python 3.8.10 64-bit"
        },
        "interpreter": {
            "hash": "916dbcbb3f70747c44a77c7bcd40155683ae19c65e1c03b4aa3499c5328201f1"
        }
    },
    "nbformat": 4,
    "nbformat_minor": 2
}