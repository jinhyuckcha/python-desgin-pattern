{
 "cells": [
  {
   "cell_type": "code",
   "execution_count": 2,
   "source": [
    "from abc import ABC, abstractmethod\r\n",
    "\r\n",
    "# Reciever\r\n",
    "class Light:\r\n",
    "    def on(self):\r\n",
    "        print(\"Light On\")\r\n",
    "\r\n",
    "    def off(self):\r\n",
    "        print(\"Light Off\")\r\n",
    "\r\n",
    "# Command\r\n",
    "class Command:\r\n",
    "    @abstractmethod\r\n",
    "    def execute(self):\r\n",
    "        pass\r\n",
    "\r\n",
    "    @abstractmethod\r\n",
    "    def undo(self):\r\n",
    "        pass\r\n",
    "\r\n",
    "# Concrete Commnad\r\n",
    "class LightOnCommand(Command):\r\n",
    "    def __init__(self, light) -> None:\r\n",
    "        self.light = light\r\n",
    "    \r\n",
    "    def execute(self):\r\n",
    "        self.light.on()\r\n",
    "    \r\n",
    "    def undo(self):\r\n",
    "        self.light.off\r\n",
    "\r\n",
    "\r\n",
    "class SimpleRemoteControl:\r\n",
    "    def SetCommand(self, command):\r\n",
    "        self.slot = command\r\n",
    "    \r\n",
    "    def ButtonPressed(self):\r\n",
    "        self.slot.execute()\r\n"
   ],
   "outputs": [],
   "metadata": {}
  },
  {
   "cell_type": "code",
   "execution_count": 4,
   "source": [
    "controller = SimpleRemoteControl()\r\n",
    "controller.SetCommand(LightOnCommand(Light()))\r\n",
    "controller.ButtonPressed()"
   ],
   "outputs": [
    {
     "output_type": "stream",
     "name": "stdout",
     "text": [
      "Light On\n"
     ]
    }
   ],
   "metadata": {}
  }
 ],
 "metadata": {
  "orig_nbformat": 4,
  "language_info": {
   "name": "python",
   "version": "3.9.6",
   "mimetype": "text/x-python",
   "codemirror_mode": {
    "name": "ipython",
    "version": 3
   },
   "pygments_lexer": "ipython3",
   "nbconvert_exporter": "python",
   "file_extension": ".py"
  },
  "kernelspec": {
   "name": "python3",
   "display_name": "Python 3.9.6 64-bit"
  },
  "interpreter": {
   "hash": "2259d5726e9a06fda29233f4d970cc16b01a0d6e68c90a4189f0793c40fa4cd4"
  }
 },
 "nbformat": 4,
 "nbformat_minor": 2
}