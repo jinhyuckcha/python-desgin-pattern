{
 "cells": [
  {
   "cell_type": "code",
   "execution_count": null,
   "metadata": {},
   "outputs": [],
   "source": [
    "from abc import ABC, abstractmethod\n",
    "\n",
    "# Reciever\n",
    "class Light:\n",
    "    def on(self):\n",
    "        print(\"Light On\")\n",
    "\n",
    "    def off(self):\n",
    "        print(\"Light Off\")\n",
    "\n",
    "# Command\n",
    "class Command:\n",
    "    @abstractmethod\n",
    "    def execute(self):\n",
    "        pass\n",
    "\n",
    "    @abstractmethod\n",
    "    def undo(self):\n",
    "        pass\n",
    "\n",
    "# Concrete Commnad\n",
    "class LightOnCommand(Command):\n",
    "    def __init__(self, light) -> None:\n",
    "        self.light = light\n",
    "    \n",
    "    def execute(self):\n",
    "        self.light.on()\n",
    "    \n",
    "    def undo(self):\n",
    "        self.light.off\n",
    "\n",
    "\n",
    "class SimpleRemoteControl:\n",
    "    def SetCommand(self, command):\n",
    "        self.slot = command\n",
    "    \n",
    "    def ButtonPressed(self):\n",
    "        self.slot.execute()\n"
   ]
  },
  {
   "cell_type": "code",
   "execution_count": 4,
   "metadata": {},
   "outputs": [
    {
     "name": "stdout",
     "output_type": "stream",
     "text": [
      "Light On\n"
     ]
    }
   ],
   "source": [
    "controller = SimpleRemoteControl()\n",
    "controller.SetCommand(LightOnCommand(Light()))\n",
    "controller.ButtonPressed()"
   ]
  }
 ],
 "metadata": {
  "interpreter": {
   "hash": "31f2aee4e71d21fbe5cf8b01ff0e069b9275f58929596ceb00d14d90e3e16cd6"
  },
  "kernelspec": {
   "display_name": "Python 3.8.9 64-bit",
   "language": "python",
   "name": "python3"
  },
  "language_info": {
   "codemirror_mode": {
    "name": "ipython",
    "version": 3
   },
   "file_extension": ".py",
   "mimetype": "text/x-python",
   "name": "python",
   "nbconvert_exporter": "python",
   "pygments_lexer": "ipython3",
   "version": "3.8.9"
  },
  "orig_nbformat": 4
 },
 "nbformat": 4,
 "nbformat_minor": 2
}
