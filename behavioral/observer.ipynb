{
 "cells": [
  {
   "cell_type": "code",
   "execution_count": 4,
   "metadata": {},
   "outputs": [],
   "source": [
    "class Subject:\n",
    "    def __init__(self):\n",
    "        self._observers = []\n",
    "    \n",
    "    def notify(self, modifier=None):\n",
    "        for observer in self._observers:\n",
    "            if modifier != observer:\n",
    "                observer.update(self)\n",
    "    \n",
    "    def attach(self, observer):\n",
    "        if observer not in self._observers:\n",
    "            self._observers.append(observer)\n",
    "    \n",
    "    def detach(self, observer):\n",
    "        try:\n",
    "            self._observers.remove(observer)\n",
    "        except ValueError:\n",
    "            pass\n",
    "\n",
    "\n",
    "class Data(Subject):\n",
    "    def __init__(self, name=''):\n",
    "        Subject.__init__(self)\n",
    "        self.name = name\n",
    "        self._data = 0\n",
    "    \n",
    "    @property\n",
    "    def data(self):\n",
    "        return self._data\n",
    "    \n",
    "    @data.setter\n",
    "    def data(self, value):\n",
    "        self._data = value\n",
    "        self.notify()\n",
    "\n",
    "\n",
    "class HexViewer:\n",
    "    def update(self, subject):\n",
    "        print('HexViewer: Subject {} has data 0x{:x}'.format(subject.name, subject.data))\n",
    "\n",
    "\n",
    "class OctalViewer:\n",
    "    def update(self, subject):\n",
    "        print('OctalViewer: Subject' + str(subject.name) + 'has data '+str(oct(subject.data)))"
   ]
  },
  {
   "cell_type": "code",
   "execution_count": 5,
   "metadata": {},
   "outputs": [
    {
     "name": "stdout",
     "output_type": "stream",
     "text": [
      "OctalViewer: SubjectData 1has data 0o12\n",
      "HexViewer: Subject Data 1 has data 0xa\n",
      "OctalViewer: SubjectData 2has data 0o17\n",
      "HexViewer: Subject Data 2 has data 0xf\n"
     ]
    }
   ],
   "source": [
    "obj1 = Data('Data 1')\n",
    "obj2 = Data('Data 2')\n",
    "\n",
    "view1 = OctalViewer()\n",
    "view2 = HexViewer()\n",
    "\n",
    "obj1.attach(view1)\n",
    "obj1.attach(view2)\n",
    "\n",
    "obj2.attach(view1)\n",
    "obj2.attach(view2)\n",
    "\n",
    "obj1.data = 10\n",
    "obj2.data = 15"
   ]
  }
 ],
 "metadata": {
  "interpreter": {
   "hash": "31f2aee4e71d21fbe5cf8b01ff0e069b9275f58929596ceb00d14d90e3e16cd6"
  },
  "kernelspec": {
   "display_name": "Python 3.8.9 64-bit",
   "language": "python",
   "name": "python3"
  },
  "language_info": {
   "codemirror_mode": {
    "name": "ipython",
    "version": 3
   },
   "file_extension": ".py",
   "mimetype": "text/x-python",
   "name": "python",
   "nbconvert_exporter": "python",
   "pygments_lexer": "ipython3",
   "version": "3.8.9"
  },
  "orig_nbformat": 4
 },
 "nbformat": 4,
 "nbformat_minor": 2
}
