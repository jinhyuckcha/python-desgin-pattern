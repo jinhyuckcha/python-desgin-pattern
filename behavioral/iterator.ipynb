{
 "cells": [
  {
   "cell_type": "code",
   "execution_count": 1,
   "metadata": {},
   "outputs": [],
   "source": [
    "class FoodItem:\n",
    "    def __init__(self, name, price):\n",
    "        self.name = name\n",
    "        self.price = price\n",
    "    \n",
    "    def __str__(self):\n",
    "        return f\"{self.name}: ${self.price}\"\n",
    "\n",
    "\n",
    "class Menu:\n",
    "    def __init__(self):\n",
    "        self.items = []\n",
    "    \n",
    "    def add(self, item):\n",
    "        self.items.append(item)\n",
    "    \n",
    "    def remove(self):\n",
    "        return self.items.pop()\n",
    "    \n",
    "    def iterator(self):\n",
    "        return MenuIterator(self.items)\n",
    "\n",
    "\n",
    "class MenuIterator:\n",
    "    def __init__(self, items):\n",
    "        self.index = 0\n",
    "        self.items = items\n",
    "    \n",
    "    def has_next(self):\n",
    "        return False if self.index >= len(self.items) else True\n",
    "    \n",
    "    def next(self):\n",
    "        item = self.items[self.index]\n",
    "        self.index += 1\n",
    "        return item"
   ]
  },
  {
   "cell_type": "code",
   "execution_count": 3,
   "metadata": {},
   "outputs": [
    {
     "name": "stdout",
     "output_type": "stream",
     "text": [
      "displaying menu\n",
      "Pizza - $10\n",
      "Burger - $5\n",
      "Fries - $2\n"
     ]
    }
   ],
   "source": [
    "item1 = FoodItem(\"Pizza\", 10)\n",
    "item2 = FoodItem(\"Burger\", 5)\n",
    "item3 = FoodItem(\"Fries\", 2)\n",
    "\n",
    "menu = Menu()\n",
    "menu.add(item1)\n",
    "menu.add(item2)\n",
    "menu.add(item3)\n",
    "\n",
    "print('displaying menu')\n",
    "iterator = menu.iterator()\n",
    "while iterator.has_next():\n",
    "    item = iterator.next()\n",
    "    print(item)"
   ]
  },
  {
   "cell_type": "code",
   "execution_count": null,
   "metadata": {},
   "outputs": [],
   "source": []
  }
 ],
 "metadata": {
  "interpreter": {
   "hash": "31f2aee4e71d21fbe5cf8b01ff0e069b9275f58929596ceb00d14d90e3e16cd6"
  },
  "kernelspec": {
   "display_name": "Python 3.8.9 64-bit",
   "language": "python",
   "name": "python3"
  },
  "language_info": {
   "codemirror_mode": {
    "name": "ipython",
    "version": 3
   },
   "file_extension": ".py",
   "mimetype": "text/x-python",
   "name": "python",
   "nbconvert_exporter": "python",
   "pygments_lexer": "ipython3",
   "version": "3.8.9"
  },
  "orig_nbformat": 4
 },
 "nbformat": 4,
 "nbformat_minor": 2
}
