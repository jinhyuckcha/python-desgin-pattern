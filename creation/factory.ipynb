{
    "cells": [
        {
            "cell_type": "code",
            "execution_count": 1,
            "source": [
                "class FrenchLocalizer:\n",
                "    def __init__(self) -> None:\n",
                "        self.trans = {'car': 'voiture', 'bike': 'bicyclette'}\n",
                "    \n",
                "    def localize(self, msg: str):\n",
                "        return self.trans.get(msg, msg)\n",
                "\n",
                "class SpanishLocalizer:\n",
                "    def __init__(self) -> None:\n",
                "        self.trans = {'car': 'coche', 'bike': 'bicicleta'}\n",
                "\n",
                "    def localize(self, msg:str):\n",
                "        return self.trans.get(msg)\n",
                "\n",
                "def factory(lang):\n",
                "    localizers = {\n",
                "        'French': FrenchLocalizer,\n",
                "        'Spanish': SpanishLocalizer\n",
                "    }\n",
                "    return localizers[lang]()"
            ],
            "outputs": [],
            "metadata": {}
        },
        {
            "cell_type": "code",
            "execution_count": 2,
            "source": [
                "f = factory('French')\n",
                "s = factory('Spanish')\n",
                "msg = ['car', 'bike']\n",
                "\n",
                "for m in msg:\n",
                "    print(f.localize(m))\n",
                "    print(s.localize(m))"
            ],
            "outputs": [
                {
                    "output_type": "stream",
                    "name": "stdout",
                    "text": [
                        "voiture\n",
                        "coche\n",
                        "bicyclette\n",
                        "bicicleta\n"
                    ]
                }
            ],
            "metadata": {}
        }
    ],
    "metadata": {
        "orig_nbformat": 4,
        "language_info": {
            "name": "python",
            "version": "3.8.10",
            "mimetype": "text/x-python",
            "codemirror_mode": {
                "name": "ipython",
                "version": 3
            },
            "pygments_lexer": "ipython3",
            "nbconvert_exporter": "python",
            "file_extension": ".py"
        },
        "kernelspec": {
            "name": "python3",
            "display_name": "Python 3.8.10 64-bit"
        },
        "interpreter": {
            "hash": "916dbcbb3f70747c44a77c7bcd40155683ae19c65e1c03b4aa3499c5328201f1"
        }
    },
    "nbformat": 4,
    "nbformat_minor": 2
}