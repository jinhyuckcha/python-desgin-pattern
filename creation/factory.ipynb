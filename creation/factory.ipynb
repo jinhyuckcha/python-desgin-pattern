{
    "cells": [
        {
            "cell_type": "code",
            "execution_count": 3,
            "metadata": {},
            "outputs": [],
            "source": [
                "class FrenchLocalizer:\n",
                "    def __init__(self) -> None:\n",
                "        self.translations = {'car': 'voiture', 'bike': 'bicyclette'}\n",
                "    \n",
                "    def localize(self, msg: str):\n",
                "        return self.translations[msg]\n",
                "\n",
                "\n",
                "class SpanishLocalizer:\n",
                "    def __init__(self) -> None:\n",
                "        self.translations = {'car': 'coche', 'bike': 'bicicleta'}\n",
                "\n",
                "    def localize(self, msg:str):\n",
                "        return self.translations[msg]\n",
                "\n",
                "\n",
                "def factory(lang):\n",
                "    localizers = {\n",
                "        'French': FrenchLocalizer,\n",
                "        'Spanish': SpanishLocalizer\n",
                "    }\n",
                "    return localizers[lang]()"
            ]
        },
        {
            "cell_type": "code",
            "execution_count": 4,
            "metadata": {},
            "outputs": [
                {
                    "name": "stdout",
                    "output_type": "stream",
                    "text": [
                        "voiture\n",
                        "coche\n",
                        "bicyclette\n",
                        "bicicleta\n"
                    ]
                }
            ],
            "source": [
                "f = factory('French')\n",
                "s = factory('Spanish')\n",
                "msgs = ['car', 'bike']\n",
                "\n",
                "for msg in msgs:\n",
                "    print(f.localize(msg))\n",
                "    print(s.localize(msg))"
            ]
        }
    ],
    "metadata": {
        "interpreter": {
            "hash": "31f2aee4e71d21fbe5cf8b01ff0e069b9275f58929596ceb00d14d90e3e16cd6"
        },
        "kernelspec": {
            "display_name": "Python 3.8.9 64-bit",
            "language": "python",
            "name": "python3"
        },
        "language_info": {
            "codemirror_mode": {
                "name": "ipython",
                "version": 3
            },
            "file_extension": ".py",
            "mimetype": "text/x-python",
            "name": "python",
            "nbconvert_exporter": "python",
            "pygments_lexer": "ipython3",
            "version": "3.8.9"
        },
        "orig_nbformat": 4
    },
    "nbformat": 4,
    "nbformat_minor": 2
}
