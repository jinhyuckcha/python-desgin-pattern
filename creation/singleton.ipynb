{
    "cells": [
        {
            "cell_type": "code",
            "execution_count": 2,
            "metadata": {},
            "outputs": [],
            "source": [
                "class SingletonMeta(type):\n",
                "    _instances = {}\n",
                "\n",
                "    def __call__(cls, *args, **kwargs):\n",
                "        if cls not in cls._instances:\n",
                "            instance = super().__call__(*args, **kwargs)\n",
                "            cls._instances[cls] = instance\n",
                "        return cls._instances[cls]\n",
                "\n",
                "\n",
                "class Singleton(metaclass=SingletonMeta):\n",
                "    def some_business_logic(self):\n",
                "        pass"
            ]
        },
        {
            "cell_type": "code",
            "execution_count": 3,
            "metadata": {},
            "outputs": [
                {
                    "name": "stdout",
                    "output_type": "stream",
                    "text": [
                        "Singleton works, both variables contain the same instance.\n"
                    ]
                }
            ],
            "source": [
                "s1 = Singleton()\n",
                "s2 = Singleton()\n",
                "\n",
                "if id(s1) == id(s2):\n",
                "    print(\"Singleton works, both variables contain the same instance.\")\n",
                "else:\n",
                "    print(\"Singleton failed, variables contain different instances.\")"
            ]
        }
    ],
    "metadata": {
        "interpreter": {
            "hash": "31f2aee4e71d21fbe5cf8b01ff0e069b9275f58929596ceb00d14d90e3e16cd6"
        },
        "kernelspec": {
            "display_name": "Python 3.8.9 64-bit",
            "language": "python",
            "name": "python3"
        },
        "language_info": {
            "codemirror_mode": {
                "name": "ipython",
                "version": 3
            },
            "file_extension": ".py",
            "mimetype": "text/x-python",
            "name": "python",
            "nbconvert_exporter": "python",
            "pygments_lexer": "ipython3",
            "version": "3.8.9"
        },
        "orig_nbformat": 4
    },
    "nbformat": 4,
    "nbformat_minor": 2
}
