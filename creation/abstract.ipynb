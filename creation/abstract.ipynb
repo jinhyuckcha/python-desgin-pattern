{
    "cells": [
        {
            "cell_type": "code",
            "execution_count": 2,
            "source": [
                "from typing import Type\n",
                "\n",
                "class Pet:\n",
                "    def __init__(self, name: str) -> None:\n",
                "        self.name = name\n",
                "    \n",
                "    def speak(self) -> None:\n",
                "        raise NotImplemented\n",
                "    \n",
                "    def __str__(self) -> str:\n",
                "        raise NotImplemented\n",
                "\n",
                "\n",
                "class Dog(Pet):\n",
                "    def speak(self) -> None:\n",
                "        print('woof')\n",
                "    \n",
                "    def __str__(self) -> str:\n",
                "        return f'Dog<{self.name}>'\n",
                "\n",
                "\n",
                "class Cat(Pet):\n",
                "    def speak(self) -> None:\n",
                "        print('meow')\n",
                "    \n",
                "    def __str__(self) -> str:\n",
                "        return f'Cat<{self.name}>'\n",
                "\n",
                "\n",
                "class PetShop:\n",
                "    def __init__(self, animal_factory: Type[Pet]) -> None:\n",
                "        self.pet_factory = animal_factory\n",
                "    \n",
                "    def buy_pet(self, name: str) -> Pet:\n",
                "        pet = self.pet_factory(name)\n",
                "        print(f'here is your lovely {pet}')\n",
                "        return pet"
            ],
            "outputs": [
                {
                    "output_type": "stream",
                    "name": "stdout",
                    "text": [
                        "here is your lovely Cat<Lucy>\n",
                        "meow\n"
                    ]
                }
            ],
            "metadata": {}
        },
        {
            "cell_type": "code",
            "execution_count": 4,
            "source": [
                "cat_shop = PetShop(Cat)\n",
                "pet = cat_shop.buy_pet('Lucy')\n",
                "pet.speak()"
            ],
            "outputs": [
                {
                    "output_type": "stream",
                    "name": "stdout",
                    "text": [
                        "here is your lovely Cat<Lucy>\n",
                        "meow\n"
                    ]
                }
            ],
            "metadata": {}
        },
        {
            "cell_type": "code",
            "execution_count": 7,
            "source": [
                "dog_shop = PetShop(Dog)\n",
                "pet = dog_shop.buy_pet('daengdaeng2')\n",
                "pet.speak()"
            ],
            "outputs": [
                {
                    "output_type": "stream",
                    "name": "stdout",
                    "text": [
                        "here is your lovely Dog<daengdaeng2>\n",
                        "woof\n"
                    ]
                }
            ],
            "metadata": {}
        }
    ],
    "metadata": {
        "orig_nbformat": 4,
        "language_info": {
            "name": "python",
            "version": "3.8.10",
            "mimetype": "text/x-python",
            "codemirror_mode": {
                "name": "ipython",
                "version": 3
            },
            "pygments_lexer": "ipython3",
            "nbconvert_exporter": "python",
            "file_extension": ".py"
        },
        "kernelspec": {
            "name": "python3",
            "display_name": "Python 3.8.10 64-bit"
        },
        "interpreter": {
            "hash": "916dbcbb3f70747c44a77c7bcd40155683ae19c65e1c03b4aa3499c5328201f1"
        }
    },
    "nbformat": 4,
    "nbformat_minor": 2
}