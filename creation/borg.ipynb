{
    "cells": [
        {
            "cell_type": "code",
            "execution_count": 6,
            "source": [
                "class Borg:\n",
                "    _shared_state = {}\n",
                "\n",
                "    def __init__(self):\n",
                "        self.__dict__ = self._shared_state\n",
                "\n",
                "\n",
                "class YourBorg(Borg):\n",
                "    def __init__(self, state=None):\n",
                "        super().__init__()\n",
                "        if state:\n",
                "            self.state = state\n",
                "        else:\n",
                "            # initiate the first instance with default state\n",
                "            if not hasattr(self, \"state\"):\n",
                "                self.state = \"Init\"\n",
                "\n",
                "    def __str__(self):\n",
                "        return self.state"
            ],
            "outputs": [],
            "metadata": {}
        },
        {
            "cell_type": "code",
            "execution_count": 7,
            "source": [
                "rm1 = YourBorg()\n",
                "rm2 = YourBorg()\n",
                "rm1.state = 'Idle'\n",
                "rm2.state = 'Running'\n",
                "print(f'rm1: {rm1}, rm2: {rm2}')"
            ],
            "outputs": [
                {
                    "output_type": "stream",
                    "name": "stdout",
                    "text": [
                        "rm1: Running, rm2: Running\n"
                    ]
                }
            ],
            "metadata": {}
        }
    ],
    "metadata": {
        "orig_nbformat": 4,
        "language_info": {
            "name": "python"
        }
    },
    "nbformat": 4,
    "nbformat_minor": 2
}