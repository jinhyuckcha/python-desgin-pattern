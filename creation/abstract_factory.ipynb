{
    "cells": [
        {
            "cell_type": "code",
            "execution_count": 19,
            "metadata": {},
            "outputs": [],
            "source": [
                "from abc import ABC, abstractmethod\n",
                "\n",
                "\n",
                "class AbstractBrowser(ABC):\n",
                "    @abstractmethod\n",
                "    def show_page(self):\n",
                "        pass\n",
                "\n",
                "\n",
                "class AbstractMessenger(ABC):\n",
                "    @abstractmethod\n",
                "    def send_message(self):\n",
                "        pass\n",
                "\n",
                "\n",
                "class FirefoxBrowser(AbstractBrowser):\n",
                "    def show_page(self):\n",
                "        return 'firefox page'\n",
                "\n",
                "\n",
                "class FirefoxMessenger(AbstractMessenger):\n",
                "    def send_message(self):\n",
                "        return 'firefox message'"
            ]
        },
        {
            "cell_type": "code",
            "execution_count": 20,
            "metadata": {},
            "outputs": [],
            "source": [
                "class AbstractFactory(ABC):\n",
                "    @abstractmethod\n",
                "    def create_browser(self):\n",
                "        pass\n",
                "\n",
                "    @abstractmethod\n",
                "    def create_messenger(self):\n",
                "        pass\n",
                "\n",
                "\n",
                "class FirefoxFactory(AbstractFactory):\n",
                "    def create_browser(self):\n",
                "        return FirefoxBrowser()\n",
                "\n",
                "    def create_messenger(self):\n",
                "        return FirefoxMessenger()"
            ]
        },
        {
            "cell_type": "code",
            "execution_count": 22,
            "metadata": {},
            "outputs": [
                {
                    "name": "stdout",
                    "output_type": "stream",
                    "text": [
                        "firefox page\n",
                        "firefox message\n"
                    ]
                },
                {
                    "ename": "TypeError",
                    "evalue": "Can't instantiate abstract class ChromeBrowser with abstract methods show_page",
                    "output_type": "error",
                    "traceback": [
                        "\u001b[0;31m---------------------------------------------------------------------------\u001b[0m",
                        "\u001b[0;31mTypeError\u001b[0m                                 Traceback (most recent call last)",
                        "\u001b[1;32m/Users/chacha/workspace/python-desgin-pattern/creation/abstract_factory.ipynb Cell 3'\u001b[0m in \u001b[0;36m<cell line: 8>\u001b[0;34m()\u001b[0m\n\u001b[1;32m      <a href='vscode-notebook-cell:/Users/chacha/workspace/python-desgin-pattern/creation/abstract_factory.ipynb#ch0000003?line=4'>5</a>\u001b[0m \u001b[39mprint\u001b[39m(firefox_messenger\u001b[39m.\u001b[39msend_message())\n\u001b[1;32m      <a href='vscode-notebook-cell:/Users/chacha/workspace/python-desgin-pattern/creation/abstract_factory.ipynb#ch0000003?line=6'>7</a>\u001b[0m chrome_factory \u001b[39m=\u001b[39m ChromeFactory()\n\u001b[0;32m----> <a href='vscode-notebook-cell:/Users/chacha/workspace/python-desgin-pattern/creation/abstract_factory.ipynb#ch0000003?line=7'>8</a>\u001b[0m chrome_browser \u001b[39m=\u001b[39m chrome_factory\u001b[39m.\u001b[39;49mcreate_browser()\n\u001b[1;32m      <a href='vscode-notebook-cell:/Users/chacha/workspace/python-desgin-pattern/creation/abstract_factory.ipynb#ch0000003?line=8'>9</a>\u001b[0m chrome_messenger \u001b[39m=\u001b[39m chrome_factory\u001b[39m.\u001b[39mcreate_messenger()\n\u001b[1;32m     <a href='vscode-notebook-cell:/Users/chacha/workspace/python-desgin-pattern/creation/abstract_factory.ipynb#ch0000003?line=9'>10</a>\u001b[0m \u001b[39mprint\u001b[39m(chrome_browser\u001b[39m.\u001b[39mshow_page())\n",
                        "\u001b[1;32m/Users/chacha/workspace/python-desgin-pattern/creation/abstract_factory.ipynb Cell 2'\u001b[0m in \u001b[0;36mChromeFactory.create_browser\u001b[0;34m(self)\u001b[0m\n\u001b[1;32m     <a href='vscode-notebook-cell:/Users/chacha/workspace/python-desgin-pattern/creation/abstract_factory.ipynb#ch0000002?line=19'>20</a>\u001b[0m \u001b[39mdef\u001b[39;00m \u001b[39mcreate_browser\u001b[39m(\u001b[39mself\u001b[39m):\n\u001b[0;32m---> <a href='vscode-notebook-cell:/Users/chacha/workspace/python-desgin-pattern/creation/abstract_factory.ipynb#ch0000002?line=20'>21</a>\u001b[0m     \u001b[39mreturn\u001b[39;00m ChromeBrowser()\n",
                        "\u001b[0;31mTypeError\u001b[0m: Can't instantiate abstract class ChromeBrowser with abstract methods show_page"
                    ]
                }
            ],
            "source": [
                "firefox_factory = FirefoxFactory()\n",
                "firefox_browser = firefox_factory.create_browser()\n",
                "firefox_messenger = firefox_factory.create_messenger()\n",
                "print(firefox_browser.show_page())\n",
                "print(firefox_messenger.send_message())"
            ]
        }
    ],
    "metadata": {
        "interpreter": {
            "hash": "31f2aee4e71d21fbe5cf8b01ff0e069b9275f58929596ceb00d14d90e3e16cd6"
        },
        "kernelspec": {
            "display_name": "Python 3.8.9 64-bit",
            "language": "python",
            "name": "python3"
        },
        "language_info": {
            "codemirror_mode": {
                "name": "ipython",
                "version": 3
            },
            "file_extension": ".py",
            "mimetype": "text/x-python",
            "name": "python",
            "nbconvert_exporter": "python",
            "pygments_lexer": "ipython3",
            "version": "3.8.9"
        },
        "orig_nbformat": 4
    },
    "nbformat": 4,
    "nbformat_minor": 2
}
