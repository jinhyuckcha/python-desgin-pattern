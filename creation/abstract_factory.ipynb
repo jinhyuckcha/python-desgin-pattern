{
    "cells": [
        {
            "cell_type": "code",
            "execution_count": 23,
            "metadata": {},
            "outputs": [],
            "source": [
                "from abc import ABC, abstractmethod\n",
                "\n",
                "\n",
                "class AbstractBrowser(ABC):\n",
                "    @abstractmethod\n",
                "    def show_page(self):\n",
                "        pass\n",
                "\n",
                "\n",
                "class AbstractMessenger(ABC):\n",
                "    @abstractmethod\n",
                "    def send_message(self):\n",
                "        pass\n",
                "\n",
                "\n",
                "class FirefoxBrowser(AbstractBrowser):\n",
                "    def show_page(self):\n",
                "        return 'firefox page'\n",
                "\n",
                "\n",
                "class FirefoxMessenger(AbstractMessenger):\n",
                "    def send_message(self):\n",
                "        return 'firefox message'"
            ]
        },
        {
            "cell_type": "code",
            "execution_count": 24,
            "metadata": {},
            "outputs": [],
            "source": [
                "class AbstractFactory(ABC):\n",
                "    @abstractmethod\n",
                "    def create_browser(self):\n",
                "        pass\n",
                "\n",
                "    @abstractmethod\n",
                "    def create_messenger(self):\n",
                "        pass\n",
                "\n",
                "\n",
                "class FirefoxFactory(AbstractFactory):\n",
                "    def create_browser(self):\n",
                "        return FirefoxBrowser()\n",
                "\n",
                "    def create_messenger(self):\n",
                "        return FirefoxMessenger()"
            ]
        },
        {
            "cell_type": "code",
            "execution_count": 25,
            "metadata": {},
            "outputs": [
                {
                    "name": "stdout",
                    "output_type": "stream",
                    "text": [
                        "firefox page\n",
                        "firefox message\n"
                    ]
                }
            ],
            "source": [
                "firefox_factory = FirefoxFactory()\n",
                "firefox_browser = firefox_factory.create_browser()\n",
                "firefox_messenger = firefox_factory.create_messenger()\n",
                "print(firefox_browser.show_page())\n",
                "print(firefox_messenger.send_message())"
            ]
        }
    ],
    "metadata": {
        "interpreter": {
            "hash": "31f2aee4e71d21fbe5cf8b01ff0e069b9275f58929596ceb00d14d90e3e16cd6"
        },
        "kernelspec": {
            "display_name": "Python 3.8.9 64-bit",
            "language": "python",
            "name": "python3"
        },
        "language_info": {
            "codemirror_mode": {
                "name": "ipython",
                "version": 3
            },
            "file_extension": ".py",
            "mimetype": "text/x-python",
            "name": "python",
            "nbconvert_exporter": "python",
            "pygments_lexer": "ipython3",
            "version": "3.8.9"
        },
        "orig_nbformat": 4
    },
    "nbformat": 4,
    "nbformat_minor": 2
}
