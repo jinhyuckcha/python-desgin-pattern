{
    "cells": [
        {
            "cell_type": "code",
            "execution_count": 15,
            "metadata": {},
            "outputs": [],
            "source": [
                "from abc import ABC, abstractmethod\n",
                "from typing import Any\n",
                "\n",
                "\n",
                "class Builder(ABC):\n",
                "    @abstractmethod\n",
                "    def _get_product(self) -> None:\n",
                "        pass\n",
                "    \n",
                "    @abstractmethod\n",
                "    def product_part_a(self) -> None:\n",
                "        pass\n",
                "\n",
                "    @abstractmethod\n",
                "    def product_part_b(self) -> None:\n",
                "        pass\n",
                "\n",
                "\n",
                "class ConcreteBuilder(Builder):\n",
                "    def __init__(self) -> None:\n",
                "        self._get_product()\n",
                "\n",
                "    def _get_product(self) -> None:\n",
                "        self.product = Product()\n",
                "\n",
                "    def product_part_a(self) -> None:\n",
                "        self.product.add(\"PartA1\")\n",
                "\n",
                "    def product_part_b(self) -> None:\n",
                "        self.product.add(\"PartB1\")\n",
                "\n",
                "\n",
                "class Product():\n",
                "    def __init__(self) -> None:\n",
                "        self.parts = []\n",
                "    \n",
                "    def add(self, part: Any) -> None:\n",
                "        self.parts.append(part)\n",
                "    \n",
                "    def list_parts(self) -> None:\n",
                "        print(f'product parts: {self.parts}')\n",
                "\n",
                "\n",
                "class Director:\n",
                "    def __init__(self) -> None:\n",
                "        self._builder = None\n",
                "\n",
                "    @property\n",
                "    def builder(self) -> Builder:\n",
                "        return self._builder\n",
                "    \n",
                "    @builder.setter\n",
                "    def builder(self, builder: Builder) -> None:\n",
                "        self._builder = builder\n",
                "\n",
                "    def build_product(self) -> None:\n",
                "        self._builder.product_part_a()\n",
                "        self._builder.product_part_b()"
            ]
        },
        {
            "cell_type": "code",
            "execution_count": 16,
            "metadata": {},
            "outputs": [
                {
                    "name": "stdout",
                    "output_type": "stream",
                    "text": [
                        "product parts: ['PartA1', 'PartB1']\n"
                    ]
                }
            ],
            "source": [
                "builder = ConcreteBuilder()\n",
                "\n",
                "director = Director()\n",
                "director.builder = builder\n",
                "\n",
                "director.build_product()\n",
                "builder.product.list_parts()"
            ]
        }
    ],
    "metadata": {
        "interpreter": {
            "hash": "31f2aee4e71d21fbe5cf8b01ff0e069b9275f58929596ceb00d14d90e3e16cd6"
        },
        "kernelspec": {
            "display_name": "Python 3.8.9 64-bit",
            "language": "python",
            "name": "python3"
        },
        "language_info": {
            "codemirror_mode": {
                "name": "ipython",
                "version": 3
            },
            "file_extension": ".py",
            "mimetype": "text/x-python",
            "name": "python",
            "nbconvert_exporter": "python",
            "pygments_lexer": "ipython3",
            "version": "3.8.9"
        },
        "orig_nbformat": 4
    },
    "nbformat": 4,
    "nbformat_minor": 2
}
