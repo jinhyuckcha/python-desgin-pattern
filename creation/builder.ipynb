{
    "cells": [
        {
            "cell_type": "code",
            "execution_count": 13,
            "metadata": {},
            "outputs": [],
            "source": [
                "from abc import ABC, abstractmethod\n",
                "from typing import Any\n",
                "\n",
                "\n",
                "class Builder(ABC):\n",
                "    @abstractmethod\n",
                "    def _get_product(self) -> None:\n",
                "        pass\n",
                "    \n",
                "    @abstractmethod\n",
                "    def product_part_a(self) -> None:\n",
                "        pass\n",
                "\n",
                "    @abstractmethod\n",
                "    def product_part_b(self) -> None:\n",
                "        pass\n",
                "\n",
                "\n",
                "class ConcreteBuilder(Builder):\n",
                "    def __init__(self) -> None:\n",
                "        self._get_product()\n",
                "\n",
                "    def _get_product(self) -> None:\n",
                "        self.product = Product()\n",
                "\n",
                "    def product_part_a(self) -> None:\n",
                "        self.product.add(\"PartA1\")\n",
                "\n",
                "    def product_part_b(self) -> None:\n",
                "        self.product.add(\"PartB1\")\n",
                "\n",
                "\n",
                "class Product():\n",
                "    def __init__(self) -> None:\n",
                "        self.parts = []\n",
                "    \n",
                "    def add(self, part: Any) -> None:\n",
                "        self.parts.append(part)\n",
                "    \n",
                "    def list_parts(self) -> None:\n",
                "        print(f'product parts: {self.parts}')\n",
                "\n",
                "\n",
                "class Director:\n",
                "    def __init__(self) -> None:\n",
                "        self._builder = None\n",
                "\n",
                "    @property\n",
                "    def builder(self) -> Builder:\n",
                "        return self._builder\n",
                "    \n",
                "    @builder.setter\n",
                "    def builder(self, builder: Builder) -> None:\n",
                "        self._builder = builder\n",
                "\n",
                "    def build_product(self) -> None:\n",
                "        self._builder.product_part_a()\n",
                "        self._builder.product_part_b()"
            ]
        },
        {
            "cell_type": "code",
            "execution_count": 14,
            "metadata": {},
            "outputs": [
                {
                    "ename": "TypeError",
                    "evalue": "Can't instantiate abstract class ConcreteBuilder with abstract methods get_product",
                    "output_type": "error",
                    "traceback": [
                        "\u001b[0;31m---------------------------------------------------------------------------\u001b[0m",
                        "\u001b[0;31mTypeError\u001b[0m                                 Traceback (most recent call last)",
                        "\u001b[1;32m/Users/chacha/workspace/python-desgin-pattern/creation/builder.ipynb Cell 2'\u001b[0m in \u001b[0;36m<cell line: 1>\u001b[0;34m()\u001b[0m\n\u001b[0;32m----> <a href='vscode-notebook-cell:/Users/chacha/workspace/python-desgin-pattern/creation/builder.ipynb#ch0000001?line=0'>1</a>\u001b[0m builder \u001b[39m=\u001b[39m ConcreteBuilder()\n\u001b[1;32m      <a href='vscode-notebook-cell:/Users/chacha/workspace/python-desgin-pattern/creation/builder.ipynb#ch0000001?line=2'>3</a>\u001b[0m director \u001b[39m=\u001b[39m Director()\n\u001b[1;32m      <a href='vscode-notebook-cell:/Users/chacha/workspace/python-desgin-pattern/creation/builder.ipynb#ch0000001?line=3'>4</a>\u001b[0m director\u001b[39m.\u001b[39mbuilder \u001b[39m=\u001b[39m builder\n",
                        "\u001b[0;31mTypeError\u001b[0m: Can't instantiate abstract class ConcreteBuilder with abstract methods get_product"
                    ]
                }
            ],
            "source": [
                "builder = ConcreteBuilder()\n",
                "\n",
                "director = Director()\n",
                "director.builder = builder\n",
                "\n",
                "director.build_product()\n",
                "builder.product.list_parts()"
            ]
        }
    ],
    "metadata": {
        "interpreter": {
            "hash": "31f2aee4e71d21fbe5cf8b01ff0e069b9275f58929596ceb00d14d90e3e16cd6"
        },
        "kernelspec": {
            "display_name": "Python 3.8.9 64-bit",
            "language": "python",
            "name": "python3"
        },
        "language_info": {
            "codemirror_mode": {
                "name": "ipython",
                "version": 3
            },
            "file_extension": ".py",
            "mimetype": "text/x-python",
            "name": "python",
            "nbconvert_exporter": "python",
            "pygments_lexer": "ipython3",
            "version": "3.8.9"
        },
        "orig_nbformat": 4
    },
    "nbformat": 4,
    "nbformat_minor": 2
}
